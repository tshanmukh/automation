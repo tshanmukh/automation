{
 "cells": [
  {
   "cell_type": "markdown",
   "metadata": {
    "collapsed": true,
    "pycharm": {
     "is_executing": true,
     "name": "#%% md\n"
    }
   },
   "source": [
    "# Pre Processing the trap classifications"
   ]
  },
  {
   "cell_type": "markdown",
   "metadata": {
    "pycharm": {
     "is_executing": false,
     "name": "#%%\n"
    }
   },
   "source": [
    "## Adding all the imports"
   ]
  },
  {
   "cell_type": "code",
   "execution_count": 68,
   "metadata": {
    "pycharm": {
     "is_executing": false
    }
   },
   "outputs": [],
   "source": [
    "from pandas import Series, DataFrame\n",
    "import pandas as pd\n",
    "import pickle"
   ]
  },
  {
   "cell_type": "code",
   "execution_count": 69,
   "metadata": {
    "pycharm": {
     "is_executing": false
    }
   },
   "outputs": [],
   "source": [
    "classificationsfile = pd.read_csv('classifications.csv', usecols=[' Description',' Alarm classification'])"
   ]
  },
  {
   "cell_type": "markdown",
   "metadata": {
    "pycharm": {
     "is_executing": false,
     "name": "#%% md\n"
    }
   },
   "source": [
    "## Removing \"status: current\" in description "
   ]
  },
  {
   "cell_type": "code",
   "execution_count": 70,
   "metadata": {
    "pycharm": {
     "is_executing": false
    }
   },
   "outputs": [],
   "source": [
    "\n",
    "classificationsfile = classificationsfile[classificationsfile[' Description'] != \"status: current \"]"
   ]
  },
  {
   "cell_type": "markdown",
   "metadata": {},
   "source": [
    "## The word **\"Status\"** does not provide any context to decide the classification so removing that from descriptions"
   ]
  },
  {
   "cell_type": "code",
   "execution_count": 71,
   "metadata": {
    "pycharm": {
     "is_executing": false
    }
   },
   "outputs": [
    {
     "name": "stdout",
     "output_type": "stream",
     "text": [
      "                                             Description  Alarm classification\n",
      "0       LSN NAT total port usage reaches the maximum ...   ABNORMALPERFORMANCE\n",
      "1       LSN any IP port usage reaches the maximum thr...   ABNORMALPERFORMANCE\n",
      "2        LSN ICMP userquota exceeded on a specific pool    ABNORMALPERFORMANCE\n",
      "3         LSN UDP userquota exceeded on a specific pool    ABNORMALPERFORMANCE\n",
      "4         LSN TCP userquota exceeded on a specific pool    ABNORMALPERFORMANCE\n",
      "5         LSN ESP userquota exceeded on a specific pool    ABNORMALPERFORMANCE\n",
      "6        LSN NAT port usage exceeded on a specific pool    ABNORMALPERFORMANCE\n",
      "7       LSN New user could not get a NAT IP on a spec...          OTHERSYMPTOM\n",
      "8       LSN UDP extended userquota exceeded on a spec...   ABNORMALPERFORMANCE\n",
      "9       LSN TCP extended userquota exceeded on a spec...   ABNORMALPERFORMANCE\n",
      "10      LSN Userquota creation failed out of memory f...          OTHERSYMPTOM\n",
      "11      LSN Fullcone session creation failed outofmem...          OTHERSYMPTOM\n",
      "12      LSN Session userquota exceeded on a specific ...   ABNORMALPERFORMANCE\n",
      "13      LSN Fixed nat porting mapping file changeFixe...          OTHERSYMPTOM\n",
      "14           Notify that the system has started running           OTHERSYMPTOM\n",
      "15      Notify that the system is in the process of b...          OTHERSYMPTOM\n",
      "16                         The system tempature is high    ABNORMALPERFORMANCE\n",
      "17                            The system fan1 is failed       EQUIPMENTFAILURE\n",
      "18                            The system fan2 is failed       EQUIPMENTFAILURE\n",
      "19                            The system fan3 is failed       EQUIPMENTFAILURE\n",
      "20              The system upper power supply is failed       EQUIPMENTFAILURE\n",
      "21              The system lower power supply is failed       EQUIPMENTFAILURE\n",
      "22                      The primary hard disk is failed       EQUIPMENTFAILURE\n",
      "23                    The secondary hard disk is failed       EQUIPMENTFAILURE\n",
      "24                          The hard disk usage is high    ABNORMALPERFORMANCE\n",
      "25                             The memory usage is high    ABNORMALPERFORMANCE\n",
      "26             Notify that the agent has been restarted           OTHERSYMPTOM\n",
      "27      The AX experiences the packet dropped of axNo...         LAYER3FAILURE\n",
      "28       The AX recovers from the packet dropped before          LAYER3FAILURE\n",
      "29                     The AX control CPU usage is high    ABNORMALPERFORMANCE\n",
      "...                                                  ...                   ...\n",
      "43007                      MEM is Message Error Message           OTHERFAILURE\n",
      "43008   DACT is Deactivate ONUID Switch off the laser...         LAYER1FAILURE\n",
      "43009   DACT is Deactivate ONUIDReception of Upstream...         LAYER1FAILURE\n",
      "43010   DIS is Disabled ONU Switch off laser Go to Em...         LAYER1FAILURE\n",
      "43011   DIS is Disabled ONU When the ONU receives a D...         LAYER1FAILURE\n",
      "43012                           MIS is Link Mismatching       INTERFACEFAILURE\n",
      "43013   MIS is Link Mismatching The ONU detects that ...      INTERFACEFAILURE\n",
      "43014   Pee is Physical Equipment Error Generate Loss...      EQUIPMENTFAILURE\n",
      "43015   Pee is Physical Equipment Error When the ONU ...      EQUIPMENTFAILURE\n",
      "43016   LOS is Loss Of Signal Switch off laser Genera...   REACHABILITYFAILURE\n",
      "43017        LOS is Loss Of Signal Valid optical signal    REACHABILITYFAILURE\n",
      "43018   LOF is Loss of Frame Switch off laser Generat...         LAYER2FAILURE\n",
      "43019    LOF is Loss of Frame When 2 consecutive frames          LAYER2FAILURE\n",
      "43036                      OLT detects a faked SN event           OTHERSYMPTOM\n",
      "43037                  It indicate ONU constant optical           OTHERSYMPTOM\n",
      "43038          It indicate ONU constant optical restore           OTHERSYMPTOM\n",
      "43039                  It indicate ONU constant optical           OTHERSYMPTOM\n",
      "43040          It indicate ONU constant optical restore           OTHERSYMPTOM\n",
      "43041                  It indicate ONU constant optical           OTHERSYMPTOM\n",
      "43042          It indicate ONU constant optical restore           OTHERSYMPTOM\n",
      "43043               It indicate Gpon port mac spoolfing           OTHERSYMPTOM\n",
      "43044                  It indicate ONU constant optical           OTHERSYMPTOM\n",
      "43045                         TF is Transmitter Failure       EQUIPMENTFAILURE\n",
      "43046                         TF is Transmitter Failure       EQUIPMENTFAILURE\n",
      "43047                OLT detects a faked password event           OTHERSYMPTOM\n",
      "43048   It occurred when the ONU is automatically add...          OTHERSYMPTOM\n",
      "43049   It occurred when the ONU disabled then turn o...          OTHERSYMPTOM\n",
      "43050   It occurred when received illegal ip or mac p...          OTHERSYMPTOM\n",
      "43051   It occurred when when ONU ethernet port loopb...      INTERFACEFAILURE\n",
      "43052   It occurred when ONU ethernet port loopback w...      INTERFACEFAILURE\n",
      "\n",
      "[42816 rows x 2 columns]\n"
     ]
    }
   ],
   "source": [
    "from string import punctuation\n",
    "import re\n",
    "\n",
    "def f(x):\n",
    "    try:\n",
    "        # add all the conditions that are found here to remove unwanted words\n",
    "        x = x.replace('status: current','')\n",
    "        x = x.replace('status:','')\n",
    "        x = x.replace('deprecated','')\n",
    "        x = x.translate(str.maketrans('', '', punctuation))\n",
    "        # x = re.sub(r'[^\\w]','',x)\n",
    "        return x\n",
    "    except:\n",
    "        return x\n",
    "classificationsfile = classificationsfile.applymap(f)\n",
    "print(classificationsfile)"
   ]
  },
  {
   "cell_type": "markdown",
   "metadata": {},
   "source": [
    "## creating a dictionary of all the words"
   ]
  },
  {
   "cell_type": "code",
   "execution_count": null,
   "metadata": {
    "pycharm": {
     "is_executing": false
    }
   },
   "outputs": [
    {
     "name": "stdout",
     "output_type": "stream",
     "text": [
      "Collecting tqdm\n",
      "\u001b[?25l  Downloading https://files.pythonhosted.org/packages/45/af/685bf3ce889ea191f3b916557f5677cc95a5e87b2fa120d74b5dd6d049d0/tqdm-4.32.1-py2.py3-none-any.whl (49kB)\n",
      "\u001b[K    100% |████████████████████████████████| 51kB 1.2MB/s ta 0:00:011\n",
      "\u001b[?25hInstalling collected packages: tqdm\n",
      "Successfully installed tqdm-4.32.1\n"
     ]
    },
    {
     "name": "stderr",
     "output_type": "stream",
     "text": [
      "  9%|▉         | 4002/42816 [21:34<27:33:58,  2.56s/it]"
     ]
    }
   ],
   "source": [
    "# word_lookup = list()\n",
    "!pip install tqdm\n",
    "words = list()\n",
    "from tqdm import tqdm\n",
    "# using nltk for stemming the words\n",
    "from nltk.stem.porter import PorterStemmer\n",
    "porter = PorterStemmer()\n",
    "\n",
    "# using Textblob to correct spellings\n",
    "from textblob import TextBlob\n",
    "\n",
    "# stemmed = [porter.stem(word) for word in words]\n",
    "# print(stemmed[:100])\n",
    "\n",
    "# words = [i for i in classificationsfile[' Description'].str.join('')]\n",
    "for i in tqdm(classificationsfile[' Description']):\n",
    "    try:\n",
    "        for word in i.split(' '):\n",
    "#             word_lookup.add(porter.stem(re.sub(r'[0-9]*','',word).lower()))\n",
    "#             print(word)\n",
    "            if(len(word) > 2):\n",
    "                \n",
    "                word_digits_removed = re.sub(r'[0-9]*','',f(word)).lower()\n",
    "                stemmed_word = porter.stem(word_digits_removed)\n",
    "                spelling_corrected_word = TextBlob(stemmed_word).correct()\n",
    "#                 print(spelling_corrected_word)\n",
    "                words.append(str(spelling_corrected_word))\n",
    "#                 print(words)\n",
    "#                 words.append()\n",
    "    except AttributeError:\n",
    "        pass\n",
    "\n",
    "print(words)"
   ]
  },
  {
   "cell_type": "markdown",
   "metadata": {},
   "source": [
    "## Pickling the word_lookup and all words  "
   ]
  },
  {
   "cell_type": "code",
   "execution_count": 55,
   "metadata": {
    "pycharm": {
     "is_executing": false
    }
   },
   "outputs": [
    {
     "data": {
      "text/plain": [
       "<function BufferedWriter.close>"
      ]
     },
     "execution_count": 55,
     "metadata": {},
     "output_type": "execute_result"
    }
   ],
   "source": [
    "# f = open('word_lookup.p','wb')\n",
    "# pickle.dump(word_lookup, f)\n",
    "# f.close\n",
    "\n",
    "f = open('total_words.p','wb')\n",
    "pickle.dump(words, f)\n",
    "f.close"
   ]
  },
  {
   "cell_type": "markdown",
   "metadata": {},
   "source": [
    "# checkpoint 1\n",
    "Can start here to load the words"
   ]
  },
  {
   "cell_type": "code",
   "execution_count": 56,
   "metadata": {
    "pycharm": {
     "is_executing": true
    }
   },
   "outputs": [],
   "source": [
    "from pandas import Series, DataFrame\n",
    "import pandas as pd\n",
    "import pickle\n",
    "from collections import Counter\n",
    "import numpy as np"
   ]
  },
  {
   "cell_type": "code",
   "execution_count": 57,
   "metadata": {
    "pycharm": {
     "is_executing": false
    }
   },
   "outputs": [],
   "source": [
    "classificationsfile = pd.read_csv('classifications.csv', usecols=[' Description',' Alarm classification'])"
   ]
  },
  {
   "cell_type": "code",
   "execution_count": 63,
   "metadata": {
    "pycharm": {
     "is_executing": false
    }
   },
   "outputs": [
    {
     "ename": "TypeError",
     "evalue": "'set' object is not callable",
     "output_type": "error",
     "traceback": [
      "\u001b[0;31m---------------------------------------------------------------------------\u001b[0m",
      "\u001b[0;31mTypeError\u001b[0m                                 Traceback (most recent call last)",
      "\u001b[0;32m<ipython-input-63-ccb50ce16ff8>\u001b[0m in \u001b[0;36m<module>\u001b[0;34m\u001b[0m\n\u001b[1;32m      6\u001b[0m \u001b[0mwords\u001b[0m \u001b[0;34m=\u001b[0m \u001b[0mpickle\u001b[0m\u001b[0;34m.\u001b[0m\u001b[0mload\u001b[0m\u001b[0;34m(\u001b[0m\u001b[0mf\u001b[0m\u001b[0;34m)\u001b[0m\u001b[0;34m\u001b[0m\u001b[0;34m\u001b[0m\u001b[0m\n\u001b[1;32m      7\u001b[0m \u001b[0mlen\u001b[0m\u001b[0;34m(\u001b[0m\u001b[0mwords\u001b[0m\u001b[0;34m)\u001b[0m \u001b[0;31m# a list stores all the words\u001b[0m\u001b[0;34m\u001b[0m\u001b[0;34m\u001b[0m\u001b[0m\n\u001b[0;32m----> 8\u001b[0;31m \u001b[0mprint\u001b[0m\u001b[0;34m(\u001b[0m\u001b[0mwords\u001b[0m\u001b[0;34m(\u001b[0m\u001b[0;36m0\u001b[0m\u001b[0;34m)\u001b[0m\u001b[0;34m)\u001b[0m\u001b[0;34m\u001b[0m\u001b[0;34m\u001b[0m\u001b[0m\n\u001b[0m",
      "\u001b[0;31mTypeError\u001b[0m: 'set' object is not callable"
     ]
    }
   ],
   "source": [
    "# f = open('word_lookup.p','rb')\n",
    "# word_lookup = pickle.load(f)\n",
    "# len(word_lookup)  # word_lookup is of type set stores all the words\n",
    "\n",
    "f = open('total_words.p','rb')\n",
    "words = pickle.load(f)\n",
    "len(words) # a list stores all the words\n",
    "print(words)"
   ]
  },
  {
   "cell_type": "code",
   "execution_count": 66,
   "metadata": {
    "pycharm": {
     "is_executing": false
    }
   },
   "outputs": [
    {
     "data": {
      "text/plain": [
       "[(TextBlob(\"\"), 1),\n",
       " (TextBlob(\"bulksyncfailur\"), 1),\n",
       " (TextBlob(\"irenetportindex\"), 1),\n",
       " (TextBlob(\"tmnxospfnssatranslatorstatuschg\"), 1),\n",
       " (TextBlob(\"cmnnotificationinterv\"), 1),\n",
       " (TextBlob(\"citprtchangenotifmaxperwindow\"), 1),\n",
       " (TextBlob(\"pmetherstatspktstooctetscurr\"), 1),\n",
       " (TextBlob(\"calledpartynotregist\"), 1),\n",
       " (TextBlob(\"unauthorizedaccessviacli\"), 1),\n",
       " (TextBlob(\"clcfdbifvlanmacusag\"), 1),\n",
       " (TextBlob(\"trapsequencenumb\"), 1),\n",
       " (TextBlob(\"emsnormalev\"), 1),\n",
       " (TextBlob(\"hwatmapsvpgprotectkktran\"), 1),\n",
       " (TextBlob(\"bbgpvestablishednotif\"), 1),\n",
       " (TextBlob(\"unpack\"), 1),\n",
       " (TextBlob(\"adgenaosrestyp\"), 1),\n",
       " (TextBlob(\"tmnxancpplcyegrratemonitor\"), 1),\n",
       " (TextBlob(\"acrid\"), 1),\n",
       " (TextBlob(\"tmnxdsreportalarm\"), 1),\n",
       " (TextBlob(\"cevcsiforwardbdnumberkbitmap\"), 1)]"
      ]
     },
     "execution_count": 66,
     "metadata": {},
     "output_type": "execute_result"
    }
   ],
   "source": [
    "\n",
    "\n",
    "\n",
    "words_counter = Counter(words)\n",
    "words_counter.most_common(20)"
   ]
  },
  {
   "cell_type": "code",
   "execution_count": 36,
   "metadata": {},
   "outputs": [
    {
     "name": "stdout",
     "output_type": "stream",
     "text": [
      "<class 'numpy.ndarray'>\n",
      "['lsn' 'nat' 'total' 'port' 'usage' 'reaches' 'the' 'maximum' 'threshold'\n",
      " 'any']\n"
     ]
    },
    {
     "data": {
      "image/png": "[encoded data removed]",
      "text/plain": [
       "<Figure size 432x288 with 1 Axes>"
      ]
     },
     "metadata": {
      "needs_background": "light"
     },
     "output_type": "display_data"
    }
   ],
   "source": [
    "%matplotlib inline\n",
    "import matplotlib.pyplot as plt\n",
    "\n",
    "D = words_counter\n",
    "x = np.array(list(D.keys())[1:])\n",
    "y = np.array(list(D.values())[1:])\n",
    "print(type(x))\n",
    "print(x[0:10])\n",
    "plt.bar(x[1000:1005],y[1000:1005])\n",
    "plt.show()"
   ]
  },
  {
   "cell_type": "code",
   "execution_count": null,
   "metadata": {},
   "outputs": [],
   "source": []
  }
 ],
 "metadata": {
  "kernelspec": {
   "display_name": "Python 3",
   "language": "python",
   "name": "python3"
  },
  "language_info": {
   "codemirror_mode": {
    "name": "ipython",
    "version": 3
   },
   "file_extension": ".py",
   "mimetype": "text/x-python",
   "name": "python",
   "nbconvert_exporter": "python",
   "pygments_lexer": "ipython3",
   "version": "3.7.3"
  },
  "pycharm": {
   "stem_cell": {
    "cell_type": "raw",
    "metadata": {
     "collapsed": false
    },
    "source": []
   }
  }
 },
 "nbformat": 4,
 "nbformat_minor": 1
}
