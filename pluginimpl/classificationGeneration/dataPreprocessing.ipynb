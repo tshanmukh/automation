{
 "cells": [
  {
   "cell_type": "markdown",
   "metadata": {
    "collapsed": true,
    "pycharm": {
     "is_executing": true,
     "name": "#%% md\n"
    }
   },
   "source": [
    "# Pre Processing the trap classifications"
   ]
  },
  {
   "cell_type": "markdown",
   "metadata": {
    "pycharm": {
     "is_executing": false,
     "name": "#%%\n"
    }
   },
   "source": [
    "## Adding all the imports"
   ]
  },
  {
   "cell_type": "code",
   "execution_count": 1,
   "metadata": {
    "pycharm": {
     "is_executing": false
    }
   },
   "outputs": [],
   "source": [
    "from pandas import Series, DataFrame\n",
    "import pandas as pd\n",
    "import pickle"
   ]
  },
  {
   "cell_type": "code",
   "execution_count": 2,
   "metadata": {
    "pycharm": {
     "is_executing": false
    }
   },
   "outputs": [],
   "source": [
    "classificationsfile = pd.read_csv('classifications.csv', usecols=[' Description',' Alarm classification'])"
   ]
  },
  {
   "cell_type": "markdown",
   "metadata": {
    "pycharm": {
     "is_executing": false,
     "name": "#%% md\n"
    }
   },
   "source": [
    "## Removing \"status: current\" in description "
   ]
  },
  {
   "cell_type": "code",
   "execution_count": 3,
   "metadata": {
    "pycharm": {
     "is_executing": false
    }
   },
   "outputs": [],
   "source": [
    "\n",
    "classificationsfile = classificationsfile[classificationsfile[' Description'] != \"status: current \"]"
   ]
  },
  {
   "cell_type": "markdown",
   "metadata": {},
   "source": [
    "## The word **\"Status\"** does not provide any context to decide the classification so removing that from descriptions"
   ]
  },
  {
   "cell_type": "code",
   "execution_count": 4,
   "metadata": {
    "pycharm": {
     "is_executing": true
    }
   },
   "outputs": [
    {
     "data": {
      "text/plain": [
       "'!\"#$%&\\'()*+,-./:;<=>?@[\\\\]^_`{|}~'"
      ]
     },
     "execution_count": 4,
     "metadata": {},
     "output_type": "execute_result"
    }
   ],
   "source": [
    "from string import punctuation\n",
    "import re\n",
    "\n",
    "def f(x):\n",
    "    try:\n",
    "        # add all the conditions that are found here to remove unwanted words\n",
    "        x = x.replace('status: current','')\n",
    "        x = x.replace('status:','')\n",
    "        x = x.replace('deprecated','')\n",
    "        x = x.translate(str.maketrans('', '', punctuation))\n",
    "        # x = re.sub(r'[^\\w]','',x)\n",
    "        return x\n",
    "    except:\n",
    "        return x\n",
    "classificationsfile = classificationsfile.applymap(f)\n",
    "punctuation"
   ]
  },
  {
   "cell_type": "markdown",
   "metadata": {},
   "source": [
    "## creating a dictionary of all the words"
   ]
  },
  {
   "cell_type": "code",
   "execution_count": 5,
   "metadata": {},
   "outputs": [
    {
     "data": {
      "text/plain": [
       "939560"
      ]
     },
     "execution_count": 5,
     "metadata": {},
     "output_type": "execute_result"
    }
   ],
   "source": [
    "word_lookup = set()\n",
    "words = []\n",
    "# words = [i for i in classificationsfile[' Description'].str.join('')]\n",
    "for i in classificationsfile[' Description']:\n",
    "    try:\n",
    "        for word in i.split(' '):\n",
    "            word_lookup.add(re.sub(r'[0-9]*','',word).lower())\n",
    "#             print(word)\n",
    "            words.append(word.lower())\n",
    "    except AttributeError:\n",
    "        pass\n",
    "len(words)"
   ]
  },
  {
   "cell_type": "markdown",
   "metadata": {},
   "source": [
    "## Pickling the word_lookup and all words  "
   ]
  },
  {
   "cell_type": "code",
   "execution_count": 6,
   "metadata": {},
   "outputs": [
    {
     "data": {
      "text/plain": [
       "<function BufferedWriter.close>"
      ]
     },
     "execution_count": 6,
     "metadata": {},
     "output_type": "execute_result"
    }
   ],
   "source": [
    "f = open('word_lookup.p','wb')\n",
    "pickle.dump(word_lookup, f)\n",
    "f.close\n",
    "\n",
    "f = open('total_words.p','wb')\n",
    "pickle.dump(words, f)\n",
    "f.close"
   ]
  },
  {
   "cell_type": "markdown",
   "metadata": {},
   "source": [
    "# checkpoint 1\n",
    "Can start here to load the words"
   ]
  },
  {
   "cell_type": "code",
   "execution_count": 7,
   "metadata": {},
   "outputs": [],
   "source": [
    "from pandas import Series, DataFrame\n",
    "import pandas as pd\n",
    "import pickle\n",
    "from collections import Counter"
   ]
  },
  {
   "cell_type": "code",
   "execution_count": 8,
   "metadata": {},
   "outputs": [],
   "source": [
    "classificationsfile = pd.read_csv('classifications.csv', usecols=[' Description',' Alarm classification'])"
   ]
  },
  {
   "cell_type": "code",
   "execution_count": 9,
   "metadata": {},
   "outputs": [
    {
     "data": {
      "text/plain": [
       "939560"
      ]
     },
     "execution_count": 9,
     "metadata": {},
     "output_type": "execute_result"
    }
   ],
   "source": [
    "f = open('word_lookup.p','rb')\n",
    "word_lookup = pickle.load(f)\n",
    "len(word_lookup)\n",
    "\n",
    "f = open('total_words.p','rb')\n",
    "words = pickle.load(f)\n",
    "len(words)"
   ]
  },
  {
   "cell_type": "code",
   "execution_count": 10,
   "metadata": {},
   "outputs": [
    {
     "data": {
      "text/plain": [
       "[('', 82105),\n",
       " ('the', 71136),\n",
       " ('is', 31319),\n",
       " ('a', 23122),\n",
       " ('of', 18206),\n",
       " ('this', 17556),\n",
       " ('trap', 15439),\n",
       " ('to', 13199),\n",
       " ('that', 11910),\n",
       " ('has', 11806),\n",
       " ('when', 10655),\n",
       " ('notification', 8919),\n",
       " ('in', 8847),\n",
       " ('for', 8217),\n",
       " ('indicates', 7634),\n",
       " ('an', 7097),\n",
       " ('and', 6595),\n",
       " ('event', 6556),\n",
       " ('alarm', 6360),\n",
       " ('be', 5871)]"
      ]
     },
     "execution_count": 10,
     "metadata": {},
     "output_type": "execute_result"
    }
   ],
   "source": [
    "words_counter = Counter(words)\n",
    "words_counter.most_common(20)"
   ]
  },
  {
   "cell_type": "code",
   "execution_count": null,
   "metadata": {},
   "outputs": [],
   "source": [
    "%matplotlib inline\n",
    "import matplotlib.pyplot as plt\n",
    "\n",
    "D = words_counter\n",
    "plt.bar(*zip(*D.items()))\n",
    "plt.show()"
   ]
  },
  {
   "cell_type": "code",
   "execution_count": null,
   "metadata": {},
   "outputs": [],
   "source": []
  }
 ],
 "metadata": {
  "kernelspec": {
   "display_name": "Python 3",
   "language": "python",
   "name": "python3"
  },
  "language_info": {
   "codemirror_mode": {
    "name": "ipython",
    "version": 3
   },
   "file_extension": ".py",
   "mimetype": "text/x-python",
   "name": "python",
   "nbconvert_exporter": "python",
   "pygments_lexer": "ipython3",
   "version": "3.7.3"
  },
  "pycharm": {
   "stem_cell": {
    "cell_type": "raw",
    "metadata": {
     "collapsed": false
    },
    "source": []
   }
  }
 },
 "nbformat": 4,
 "nbformat_minor": 1
}
